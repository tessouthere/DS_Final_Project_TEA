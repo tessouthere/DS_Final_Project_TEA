{
 "cells": [
  {
   "cell_type": "markdown",
   "metadata": {},
   "source": [
    "### EDA on Austin Animal Shelter Data: Cats Only"
   ]
  },
  {
   "cell_type": "code",
   "execution_count": 2,
   "metadata": {},
   "outputs": [],
   "source": [
    "#### Importing the necessary libraries\n",
    "\n",
    "import pandas as pd\n",
    "import numpy as np\n",
    "import matplotlib.pyplot as plt"
   ]
  },
  {
   "cell_type": "code",
   "execution_count": 3,
   "metadata": {},
   "outputs": [],
   "source": [
    "#### Loading the dataset\n",
    "\n",
    "df = pd.read_csv('aac_shelter_cat_outcome_eng.csv')"
   ]
  },
  {
   "cell_type": "code",
   "execution_count": 4,
   "metadata": {},
   "outputs": [
    {
     "name": "stdout",
     "output_type": "stream",
     "text": [
      "<class 'pandas.core.frame.DataFrame'>\n",
      "RangeIndex: 29421 entries, 0 to 29420\n",
      "Data columns (total 37 columns):\n",
      " #   Column                Non-Null Count  Dtype  \n",
      "---  ------                --------------  -----  \n",
      " 0   age_upon_outcome      29421 non-null  object \n",
      " 1   animal_id             29421 non-null  object \n",
      " 2   animal_type           29421 non-null  object \n",
      " 3   breed                 29421 non-null  object \n",
      " 4   color                 25795 non-null  object \n",
      " 5   date_of_birth         29421 non-null  object \n",
      " 6   datetime              29421 non-null  object \n",
      " 7   monthyear             29421 non-null  object \n",
      " 8   name                  16647 non-null  object \n",
      " 9   outcome_subtype       18641 non-null  object \n",
      " 10  outcome_type          29418 non-null  object \n",
      " 11  sex_upon_outcome      29421 non-null  object \n",
      " 12  count                 29421 non-null  int64  \n",
      " 13  sex                   29421 non-null  object \n",
      " 14  Spay/Neuter           29421 non-null  object \n",
      " 15  Periods               29421 non-null  int64  \n",
      " 16  Period Range          29421 non-null  int64  \n",
      " 17  outcome_age_(days)    29421 non-null  int64  \n",
      " 18  outcome_age_(years)   29421 non-null  float64\n",
      " 19  Cat/Kitten (outcome)  29421 non-null  object \n",
      " 20  sex_age_outcome       29421 non-null  object \n",
      " 21  age_group             29421 non-null  object \n",
      " 22  dob_year              29421 non-null  int64  \n",
      " 23  dob_month             29421 non-null  int64  \n",
      " 24  dob_monthyear         29421 non-null  object \n",
      " 25  outcome_month         29421 non-null  int64  \n",
      " 26  outcome_year          29421 non-null  int64  \n",
      " 27  outcome_weekday       29421 non-null  object \n",
      " 28  outcome_hour          29421 non-null  int64  \n",
      " 29  breed1                29421 non-null  object \n",
      " 30  breed2                52 non-null     object \n",
      " 31  cfa_breed             29421 non-null  bool   \n",
      " 32  domestic_breed        29421 non-null  bool   \n",
      " 33  coat_pattern          19155 non-null  object \n",
      " 34  color1                29421 non-null  object \n",
      " 35  color2                10354 non-null  object \n",
      " 36  coat                  29421 non-null  object \n",
      "dtypes: bool(2), float64(1), int64(9), object(25)\n",
      "memory usage: 7.9+ MB\n"
     ]
    }
   ],
   "source": [
    "#### Understanding the columns and structure of the dataset\n",
    "\n",
    "df.info()\n",
    "\n",
    "## Dataset contains 37 columns and 29,421 rows\n",
    "## Several colummns contain many null values: outcome_subtype, name, breed2, coat_pattern, color2"
   ]
  },
  {
   "cell_type": "markdown",
   "metadata": {},
   "source": [
    "#### Investigating Null Values"
   ]
  },
  {
   "cell_type": "code",
   "execution_count": 5,
   "metadata": {},
   "outputs": [
    {
     "data": {
      "text/plain": [
       "outcome_subtype\n",
       "Partner           9486\n",
       "Foster            3357\n",
       "SCRP              3211\n",
       "Suffering         1303\n",
       "Snr                625\n",
       "In Kennel          215\n",
       "In Foster          152\n",
       "Offsite            110\n",
       "Rabies Risk         61\n",
       "Medical             56\n",
       "At Vet              33\n",
       "Enroute             15\n",
       "In Surgery           8\n",
       "Aggressive           4\n",
       "Barn                 2\n",
       "Possible Theft       2\n",
       "Underage             1\n",
       "Name: count, dtype: int64"
      ]
     },
     "execution_count": 5,
     "metadata": {},
     "output_type": "execute_result"
    }
   ],
   "source": [
    "#### dropping null columns/columns that won't impact analysis\n",
    "\n",
    "## keeping name column: has many null values, however, I am interested to see if the named cats have different trends in adoption outcome than unnamed - people may be more likely to adopt animals they see as pets as opposed to strays? or more likely to adopt unnamed because maybe kittens are more likely to be unnamed and kittens may have higher adoption rate than cats?\n",
    "\n",
    "## outcome_subtype has many null values - lets explore\n",
    "df['outcome_subtype'].value_counts()"
   ]
  },
  {
   "cell_type": "code",
   "execution_count": 6,
   "metadata": {},
   "outputs": [
    {
     "name": "stdout",
     "output_type": "stream",
     "text": [
      "<class 'pandas.core.frame.DataFrame'>\n",
      "Index: 10780 entries, 1 to 29420\n",
      "Data columns (total 37 columns):\n",
      " #   Column                Non-Null Count  Dtype  \n",
      "---  ------                --------------  -----  \n",
      " 0   age_upon_outcome      10780 non-null  object \n",
      " 1   animal_id             10780 non-null  object \n",
      " 2   animal_type           10780 non-null  object \n",
      " 3   breed                 10780 non-null  object \n",
      " 4   color                 9370 non-null   object \n",
      " 5   date_of_birth         10780 non-null  object \n",
      " 6   datetime              10780 non-null  object \n",
      " 7   monthyear             10780 non-null  object \n",
      " 8   name                  9056 non-null   object \n",
      " 9   outcome_subtype       0 non-null      object \n",
      " 10  outcome_type          10777 non-null  object \n",
      " 11  sex_upon_outcome      10780 non-null  object \n",
      " 12  count                 10780 non-null  int64  \n",
      " 13  sex                   10780 non-null  object \n",
      " 14  Spay/Neuter           10780 non-null  object \n",
      " 15  Periods               10780 non-null  int64  \n",
      " 16  Period Range          10780 non-null  int64  \n",
      " 17  outcome_age_(days)    10780 non-null  int64  \n",
      " 18  outcome_age_(years)   10780 non-null  float64\n",
      " 19  Cat/Kitten (outcome)  10780 non-null  object \n",
      " 20  sex_age_outcome       10780 non-null  object \n",
      " 21  age_group             10780 non-null  object \n",
      " 22  dob_year              10780 non-null  int64  \n",
      " 23  dob_month             10780 non-null  int64  \n",
      " 24  dob_monthyear         10780 non-null  object \n",
      " 25  outcome_month         10780 non-null  int64  \n",
      " 26  outcome_year          10780 non-null  int64  \n",
      " 27  outcome_weekday       10780 non-null  object \n",
      " 28  outcome_hour          10780 non-null  int64  \n",
      " 29  breed1                10780 non-null  object \n",
      " 30  breed2                26 non-null     object \n",
      " 31  cfa_breed             10780 non-null  bool   \n",
      " 32  domestic_breed        10780 non-null  bool   \n",
      " 33  coat_pattern          7159 non-null   object \n",
      " 34  color1                10780 non-null  object \n",
      " 35  color2                3990 non-null   object \n",
      " 36  coat                  10780 non-null  object \n",
      "dtypes: bool(2), float64(1), int64(9), object(25)\n",
      "memory usage: 3.0+ MB\n"
     ]
    }
   ],
   "source": [
    "# is there a pattern or reason for null values in outcome_subtype? creating a dataframe of rows where subtype is null to investigate\n",
    "OS_null = df[df['outcome_subtype'].isnull()]\n",
    "OS_null.info()\n"
   ]
  },
  {
   "cell_type": "code",
   "execution_count": 7,
   "metadata": {},
   "outputs": [
    {
     "data": {
      "text/plain": [
       "outcome_type\n",
       "Adoption           9264\n",
       "Return to Owner    1431\n",
       "Rto-Adopt            33\n",
       "Died                 17\n",
       "Disposal             16\n",
       "Euthanasia           11\n",
       "Missing               5\n",
       "Name: count, dtype: int64"
      ]
     },
     "execution_count": 7,
     "metadata": {},
     "output_type": "execute_result"
    }
   ],
   "source": [
    "# possibly some outcomes require a subtype and others do not, if so, the column may still be valuable for analysis. exploring outcomes in this dataframe versus full dataset\n",
    "OS_null['outcome_type'].value_counts()"
   ]
  },
  {
   "cell_type": "code",
   "execution_count": 8,
   "metadata": {},
   "outputs": [
    {
     "data": {
      "text/plain": [
       "outcome_type\n",
       "Transfer           13323\n",
       "Adoption           12732\n",
       "Euthanasia          1452\n",
       "Return to Owner     1431\n",
       "Died                 403\n",
       "Rto-Adopt             33\n",
       "Missing               28\n",
       "Disposal              16\n",
       "Name: count, dtype: int64"
      ]
     },
     "execution_count": 8,
     "metadata": {},
     "output_type": "execute_result"
    }
   ],
   "source": [
    "df['outcome_type'].value_counts()\n",
    "\n",
    "# great! all transfers have a subtype while all return to owner, rto-adopt, disposal do not. many adoptions have a subtype as do many euthanasia entries, however many deaths do not.\n",
    "# this column is still valuable, at least in this stage, for further exploration and visualization."
   ]
  },
  {
   "cell_type": "code",
   "execution_count": 9,
   "metadata": {},
   "outputs": [
    {
     "data": {
      "text/plain": [
       "breed\n",
       "domestic shorthair                      23720\n",
       "domestic mediumhair                      2454\n",
       "domestic longhair                        1273\n",
       "siamese                                  1058\n",
       "american shorthair                        211\n",
       "                                        ...  \n",
       "snowshoe/domestic shorthair                 1\n",
       "domestic longhair/russian blue              1\n",
       "havana brown                                1\n",
       "domestic shorthair/british shorthair        1\n",
       "domestic mediumhair/manx                    1\n",
       "Name: count, Length: 65, dtype: int64"
      ]
     },
     "execution_count": 9,
     "metadata": {},
     "output_type": "execute_result"
    }
   ],
   "source": [
    "#### breed2 has only 52 non-null values, it can likely be dropped. first, lets investigate why there are three columns dealing with breed\n",
    "df['breed'].value_counts()\n",
    "\n",
    "#### it appears that breed1 and breed2 allow for more specific analysis of the mixed breed cats in the dataset - these columns can remain for now as this may be helpful, especially in the exploratory phase, though they might bog down analysis in the future and could potentially be removed. "
   ]
  },
  {
   "cell_type": "code",
   "execution_count": 10,
   "metadata": {},
   "outputs": [
    {
     "data": {
      "text/plain": [
       "coat_pattern\n",
       "tabby       13613\n",
       "tortie       1547\n",
       "calico       1494\n",
       "point        1297\n",
       "torbie       1035\n",
       "smoke         156\n",
       "agouti          6\n",
       "brindle         4\n",
       "tricolor        3\n",
       "Name: count, dtype: int64"
      ]
     },
     "execution_count": 10,
     "metadata": {},
     "output_type": "execute_result"
    }
   ],
   "source": [
    "#### remaining columns with many null values contain specific aesthetic information: coat_pattern, color2\n",
    "df['coat_pattern'].value_counts()"
   ]
  },
  {
   "cell_type": "code",
   "execution_count": 11,
   "metadata": {},
   "outputs": [
    {
     "data": {
      "text/plain": [
       "color2\n",
       "white         8617\n",
       "black          708\n",
       "brown          359\n",
       "blue           253\n",
       "orange         201\n",
       "gray            92\n",
       "cream           47\n",
       "blue cream      21\n",
       "tan             20\n",
       "seal             7\n",
       "silver           7\n",
       "chocolate        6\n",
       "lynx             5\n",
       "buff             4\n",
       "red              3\n",
       "flame            1\n",
       "apricot          1\n",
       "yellow           1\n",
       "lilac            1\n",
       "Name: count, dtype: int64"
      ]
     },
     "execution_count": 11,
     "metadata": {},
     "output_type": "execute_result"
    }
   ],
   "source": [
    "#### color has three columns as well and is the same as breed, they can all remain for now.\n",
    "df['color2'].value_counts()"
   ]
  },
  {
   "cell_type": "markdown",
   "metadata": {},
   "source": [
    "### Further EDA: Exploring relationships and distributions"
   ]
  },
  {
   "cell_type": "code",
   "execution_count": null,
   "metadata": {},
   "outputs": [],
   "source": [
    "#### The majority of the rest of this exploration will be done by creating visualizations in Tableau."
   ]
  },
  {
   "cell_type": "markdown",
   "metadata": {},
   "source": [
    "#### Summary Statistics for numerical columns"
   ]
  },
  {
   "cell_type": "code",
   "execution_count": 15,
   "metadata": {},
   "outputs": [],
   "source": [
    " df['count'].max(), #.min(), and .mean() are all 1 - this column is useless.\n",
    "df = df.drop(columns = \"count\")"
   ]
  },
  {
   "cell_type": "code",
   "execution_count": 20,
   "metadata": {},
   "outputs": [
    {
     "name": "stdout",
     "output_type": "stream",
     "text": [
      "Mean =  3.1993474049148567\n",
      "Median =  2.0\n",
      "Min =  0\n",
      "Max =  22\n"
     ]
    }
   ],
   "source": [
    "print(\"Mean = \", df['Periods'].mean())\n",
    "print(\"Median = \", df['Periods'].median())\n",
    "print(\"Min = \", df['Periods'].min())\n",
    "print(\"Max = \", df['Periods'].max())"
   ]
  },
  {
   "cell_type": "code",
   "execution_count": 21,
   "metadata": {},
   "outputs": [
    {
     "name": "stdout",
     "output_type": "stream",
     "text": [
      "Mean =  143.19982325549776\n",
      "Median =  30.0\n",
      "Min =  1\n",
      "Max =  365\n"
     ]
    }
   ],
   "source": [
    "print(\"Mean = \", df['Period Range'].mean())\n",
    "print(\"Median = \", df['Period Range'].median())\n",
    "print(\"Min = \", df['Period Range'].min())\n",
    "print(\"Max = \", df['Period Range'].max())"
   ]
  },
  {
   "cell_type": "code",
   "execution_count": 25,
   "metadata": {},
   "outputs": [
    {
     "name": "stdout",
     "output_type": "stream",
     "text": [
      "Mean =  509.4462798681214\n",
      "Median =  90.0\n",
      "Min =  0\n",
      "Max =  8030\n"
     ]
    }
   ],
   "source": [
    "print(\"Mean = \", df['outcome_age_(days)'].mean())\n",
    "print(\"Median = \", df['outcome_age_(days)'].median())\n",
    "print(\"Min = \", df['outcome_age_(days)'].min())\n",
    "print(\"Max = \", df['outcome_age_(days)'].max())"
   ]
  },
  {
   "cell_type": "code",
   "execution_count": 26,
   "metadata": {},
   "outputs": [
    {
     "name": "stdout",
     "output_type": "stream",
     "text": [
      "Mean =  1.395743232515401\n",
      "Median =  0.2465753424657534\n",
      "Min =  0.0\n",
      "Max =  22.0\n"
     ]
    }
   ],
   "source": [
    "print(\"Mean = \", df['outcome_age_(years)'].mean())\n",
    "print(\"Median = \", df['outcome_age_(years)'].median())\n",
    "print(\"Min = \", df['outcome_age_(years)'].min())\n",
    "print(\"Max = \", df['outcome_age_(years)'].max())"
   ]
  },
  {
   "cell_type": "code",
   "execution_count": 27,
   "metadata": {},
   "outputs": [
    {
     "name": "stdout",
     "output_type": "stream",
     "text": [
      "Mean =  2013.9824275177593\n",
      "Median =  2015.0\n",
      "Min =  1992\n",
      "Max =  2017\n"
     ]
    }
   ],
   "source": [
    "print(\"Mean = \", df['dob_year'].mean())\n",
    "print(\"Median = \", df['dob_year'].median())\n",
    "print(\"Min = \", df['dob_year'].min())\n",
    "print(\"Max = \", df['dob_year'].max())\n",
    "# should be treated as categorical"
   ]
  },
  {
   "cell_type": "code",
   "execution_count": 29,
   "metadata": {},
   "outputs": [
    {
     "name": "stdout",
     "output_type": "stream",
     "text": [
      "Mean =  6.190034329220625\n",
      "Median =  6.0\n",
      "Min =  1\n",
      "Max =  12\n"
     ]
    }
   ],
   "source": [
    "print(\"Mean = \", df['dob_month'].mean())\n",
    "print(\"Median = \", df['dob_month'].median())\n",
    "print(\"Min = \", df['dob_month'].min())\n",
    "print(\"Max = \", df['dob_month'].max())\n",
    "# should be treated as categorical"
   ]
  }
 ],
 "metadata": {
  "kernelspec": {
   "display_name": "Python 3",
   "language": "python",
   "name": "python3"
  },
  "language_info": {
   "codemirror_mode": {
    "name": "ipython",
    "version": 3
   },
   "file_extension": ".py",
   "mimetype": "text/x-python",
   "name": "python",
   "nbconvert_exporter": "python",
   "pygments_lexer": "ipython3",
   "version": "3.9.6"
  },
  "orig_nbformat": 4
 },
 "nbformat": 4,
 "nbformat_minor": 2
}
